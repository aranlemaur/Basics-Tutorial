{
  "nbformat": 4,
  "nbformat_minor": 0,
  "metadata": {
    "colab": {
      "name": "Python Loopy Loops.ipynb",
      "provenance": [],
      "include_colab_link": true
    },
    "kernelspec": {
      "name": "python3",
      "display_name": "Python 3"
    },
    "language_info": {
      "name": "python"
    }
  },
  "cells": [
    {
      "cell_type": "markdown",
      "metadata": {
        "id": "view-in-github",
        "colab_type": "text"
      },
      "source": [
        "<a href=\"https://colab.research.google.com/github/aranlemaur/Big-Data/blob/main/Python_Loopy_Loops.ipynb\" target=\"_parent\"><img src=\"https://colab.research.google.com/assets/colab-badge.svg\" alt=\"Open In Colab\"/></a>"
      ]
    },
    {
      "cell_type": "code",
      "execution_count": 2,
      "metadata": {
        "id": "36DCp--WCulL"
      },
      "outputs": [],
      "source": [
        "animals = ['rabbit', 'pangolin', 'platypus']\n",
        "numbers = [1,2,3,4]\n"
      ]
    },
    {
      "cell_type": "code",
      "source": [
        "for animal in animals:\n",
        "  print(animal) #You can use print(animal, end=' ') to print every animal in a row\n",
        "  #print(animal, end=' ')"
      ],
      "metadata": {
        "colab": {
          "base_uri": "https://localhost:8080/"
        },
        "id": "W2-Qfxv2C5o_",
        "outputId": "9d2042aa-955a-42e6-8cf5-f453416098f3"
      },
      "execution_count": 10,
      "outputs": [
        {
          "output_type": "stream",
          "name": "stdout",
          "text": [
            "rabbit pangolin platypus "
          ]
        }
      ]
    },
    {
      "cell_type": "code",
      "source": [
        "for num in numbers:\n",
        "  print(num, end=' ')"
      ],
      "metadata": {
        "colab": {
          "base_uri": "https://localhost:8080/"
        },
        "id": "yZO3YB_NC8vX",
        "outputId": "5e59d989-41d8-4c4c-cce8-7fb03c7353c5"
      },
      "execution_count": null,
      "outputs": [
        {
          "output_type": "stream",
          "name": "stdout",
          "text": [
            "1 2 3 4 "
          ]
        }
      ]
    },
    {
      "cell_type": "code",
      "source": [
        "firsttennums = range(10)\n",
        "for num in firsttennums:\n",
        "  print(num, end=' ')"
      ],
      "metadata": {
        "colab": {
          "base_uri": "https://localhost:8080/"
        },
        "id": "9S7nrDlvDFRQ",
        "outputId": "d22688e7-2107-4ea9-9297-43dbaa95ba48"
      },
      "execution_count": null,
      "outputs": [
        {
          "output_type": "stream",
          "name": "stdout",
          "text": [
            "0 1 2 3 4 5 6 7 8 9 "
          ]
        }
      ]
    },
    {
      "cell_type": "code",
      "source": [
        "for i in range(10):\n",
        "  for j in range(i):\n",
        "    print(i, end=' ')\n",
        "  print()"
      ],
      "metadata": {
        "colab": {
          "base_uri": "https://localhost:8080/"
        },
        "id": "ZGfpHuizDP40",
        "outputId": "d7b4aec0-3325-4d12-bb1b-fa2072365a8d"
      },
      "execution_count": 11,
      "outputs": [
        {
          "output_type": "stream",
          "name": "stdout",
          "text": [
            "\n",
            "1 \n",
            "2 2 \n",
            "3 3 3 \n",
            "4 4 4 4 \n",
            "5 5 5 5 5 \n",
            "6 6 6 6 6 6 \n",
            "7 7 7 7 7 7 7 \n",
            "8 8 8 8 8 8 8 8 \n",
            "9 9 9 9 9 9 9 9 9 \n"
          ]
        }
      ]
    },
    {
      "cell_type": "code",
      "source": [
        "for i in range(10):\n",
        "  # print some space here\n",
        "  for sp in range(10-i):\n",
        "    print(' ', end='')\n",
        "  for j in range(i):\n",
        "    print(i, end=' ')\n",
        "  print()"
      ],
      "metadata": {
        "colab": {
          "base_uri": "https://localhost:8080/"
        },
        "id": "sWm6lSObDmFE",
        "outputId": "3bfd107c-f016-485f-bf30-f7a286a876b9"
      },
      "execution_count": null,
      "outputs": [
        {
          "output_type": "stream",
          "name": "stdout",
          "text": [
            "          \n",
            "         1 \n",
            "        2 2 \n",
            "       3 3 3 \n",
            "      4 4 4 4 \n",
            "     5 5 5 5 5 \n",
            "    6 6 6 6 6 6 \n",
            "   7 7 7 7 7 7 7 \n",
            "  8 8 8 8 8 8 8 8 \n",
            " 9 9 9 9 9 9 9 9 9 \n"
          ]
        }
      ]
    },
    {
      "cell_type": "code",
      "source": [
        "prose = {\n",
        "    \"William Wordsworth\": \"poem 123 \",\n",
        "    \"Shakespeare\": \"Merchant of Venice\",\n",
        "    3: \"Illiad\",\n",
        "    4: \"Romeo and Juliet\",\n",
        "    False: \"Poseidon and Hades are pretty good friends\"\n",
        "}"
      ],
      "metadata": {
        "id": "8cvzpKMkEGwe"
      },
      "execution_count": 18,
      "outputs": []
    },
    {
      "cell_type": "code",
      "source": [
        "prose"
      ],
      "metadata": {
        "colab": {
          "base_uri": "https://localhost:8080/"
        },
        "id": "wwyK4LHvEzCo",
        "outputId": "79e5b708-6c3e-4eb5-c42e-8c510b044464"
      },
      "execution_count": 15,
      "outputs": [
        {
          "output_type": "execute_result",
          "data": {
            "text/plain": [
              "{3: 'Illiad',\n",
              " 4: 'Romeo and Juliet',\n",
              " False: 'Poseidon and Hades are pretty good friends',\n",
              " 'Shakespeare': 'Merchant of Venice',\n",
              " 'William Wordsworth': 'poem 123 '}"
            ]
          },
          "metadata": {},
          "execution_count": 15
        }
      ]
    },
    {
      "cell_type": "code",
      "source": [
        "prose"
      ],
      "metadata": {
        "id": "v7-EIo0_CMsx",
        "outputId": "37f0b044-16c8-4a9b-b73d-8ea6f982efaf",
        "colab": {
          "base_uri": "https://localhost:8080/"
        }
      },
      "execution_count": 21,
      "outputs": [
        {
          "output_type": "execute_result",
          "data": {
            "text/plain": [
              "{3: 'Illiad',\n",
              " 4: 'Romeo and Juliet',\n",
              " False: 'Poseidon and Hades are pretty good friends',\n",
              " 'Shakespeare': 'Merchant of Venice',\n",
              " 'William Wordsworth': 'poem 123 '}"
            ]
          },
          "metadata": {},
          "execution_count": 21
        }
      ]
    },
    {
      "cell_type": "code",
      "source": [
        "prose[5] = \"Hamlet\" #adding a new pair\n",
        "prose"
      ],
      "metadata": {
        "id": "OaTp_jajC2vX",
        "outputId": "850e054c-f52b-4f3c-d3b3-61ec029658a5",
        "colab": {
          "base_uri": "https://localhost:8080/"
        }
      },
      "execution_count": 22,
      "outputs": [
        {
          "output_type": "execute_result",
          "data": {
            "text/plain": [
              "{3: 'Illiad',\n",
              " 4: 'Romeo and Juliet',\n",
              " 5: 'Hamlet',\n",
              " False: 'Poseidon and Hades are pretty good friends',\n",
              " 'Shakespeare': 'Merchant of Venice',\n",
              " 'William Wordsworth': 'poem 123 '}"
            ]
          },
          "metadata": {},
          "execution_count": 22
        }
      ]
    },
    {
      "cell_type": "code",
      "source": [
        "prose.update({False: \"Shakespeare is alive\"}) #changing False\n",
        "prose"
      ],
      "metadata": {
        "id": "PJkQbyy_DAwp",
        "outputId": "acb890dc-4453-4f7f-bbbd-4cc9a13d0468",
        "colab": {
          "base_uri": "https://localhost:8080/"
        }
      },
      "execution_count": 24,
      "outputs": [
        {
          "output_type": "execute_result",
          "data": {
            "text/plain": [
              "{3: 'Illiad',\n",
              " 4: 'Romeo and Juliet',\n",
              " 5: 'Hamlet',\n",
              " False: 'Shakespeare is alive',\n",
              " 'False': 'Shakespeare is alive',\n",
              " 'Shakespeare': 'Merchant of Venice',\n",
              " 'William Wordsworth': 'poem 123 '}"
            ]
          },
          "metadata": {},
          "execution_count": 24
        }
      ]
    },
    {
      "cell_type": "code",
      "source": [
        "#Loop a dictionary\n",
        "for x in prose:\n",
        "  print(prose[x])"
      ],
      "metadata": {
        "id": "8FKUD4aGDgEN",
        "outputId": "57d47e47-30ff-43e4-c256-202cf32ce53b",
        "colab": {
          "base_uri": "https://localhost:8080/"
        }
      },
      "execution_count": 25,
      "outputs": [
        {
          "output_type": "stream",
          "name": "stdout",
          "text": [
            "poem 123 \n",
            "Merchant of Venice\n",
            "Illiad\n",
            "Romeo and Juliet\n",
            "Shakespeare is alive\n",
            "Hamlet\n",
            "Shakespeare is alive\n"
          ]
        }
      ]
    },
    {
      "cell_type": "code",
      "source": [
        "#remove a duplicated line I entered above\n",
        "prose.pop(False)\n",
        "prose"
      ],
      "metadata": {
        "id": "ooiSvw-tDtNf",
        "outputId": "b0b71809-5cd7-4cc3-bf63-48ec5157efae",
        "colab": {
          "base_uri": "https://localhost:8080/"
        }
      },
      "execution_count": 29,
      "outputs": [
        {
          "output_type": "execute_result",
          "data": {
            "text/plain": [
              "{3: 'Illiad',\n",
              " 4: 'Romeo and Juliet',\n",
              " 5: 'Hamlet',\n",
              " 'Shakespeare': 'Merchant of Venice',\n",
              " 'William Wordsworth': 'poem 123 '}"
            ]
          },
          "metadata": {},
          "execution_count": 29
        }
      ]
    },
    {
      "cell_type": "code",
      "source": [
        "#re-entering again\n",
        "prose[False] = \"Shakespeare is alive\"\n",
        "prose"
      ],
      "metadata": {
        "id": "oRP74B03EDkz",
        "outputId": "bcba0faa-215b-4138-85d3-6f023cf8a676",
        "colab": {
          "base_uri": "https://localhost:8080/"
        }
      },
      "execution_count": 30,
      "outputs": [
        {
          "output_type": "execute_result",
          "data": {
            "text/plain": [
              "{3: 'Illiad',\n",
              " 4: 'Romeo and Juliet',\n",
              " 5: 'Hamlet',\n",
              " False: 'Shakespeare is alive',\n",
              " 'Shakespeare': 'Merchant of Venice',\n",
              " 'William Wordsworth': 'poem 123 '}"
            ]
          },
          "metadata": {},
          "execution_count": 30
        }
      ]
    },
    {
      "cell_type": "code",
      "source": [
        "for randomKey,randomValue in prose.items():\n",
        "  print('random key =' + str(randomKey) , end=\" \")\n",
        "  print('random value =' + str(randomValue))\n"
      ],
      "metadata": {
        "colab": {
          "base_uri": "https://localhost:8080/"
        },
        "id": "W-mwT-w8E2lJ",
        "outputId": "6abd8dba-47e8-45f9-c40f-aef7a91f6dec"
      },
      "execution_count": null,
      "outputs": [
        {
          "output_type": "stream",
          "name": "stdout",
          "text": [
            "random key =William Wordsworth random value =poem 123 \n",
            "random key =Shakespeare random value =Merchant of Venice\n",
            "random key =3 random value =Illiad\n",
            "random key =4 random value =Romeo and Juliet\n",
            "random key =False random value =Poseidon and Hades are pretty good friends\n"
          ]
        }
      ]
    },
    {
      "cell_type": "code",
      "source": [
        "def randomfn(potato):\n",
        "  for tomato, peas in potato.items():\n",
        "    print(tomato, peas)"
      ],
      "metadata": {
        "id": "M99PXGfAFQve"
      },
      "execution_count": 31,
      "outputs": []
    },
    {
      "cell_type": "code",
      "source": [
        "randomfn(prose)"
      ],
      "metadata": {
        "colab": {
          "base_uri": "https://localhost:8080/"
        },
        "id": "0P56qReDFmys",
        "outputId": "bb4333be-5dba-42ae-9542-4a81856491a2"
      },
      "execution_count": 32,
      "outputs": [
        {
          "output_type": "stream",
          "name": "stdout",
          "text": [
            "William Wordsworth poem 123 \n",
            "Shakespeare Merchant of Venice\n",
            "3 Illiad\n",
            "4 Romeo and Juliet\n",
            "5 Hamlet\n",
            "False Shakespeare is alive\n"
          ]
        }
      ]
    },
    {
      "cell_type": "code",
      "source": [
        "def randomfn2(potato):\n",
        "  try:\n",
        "    for tomato,peas in potato.items():\n",
        "      print(tomato, peas)\n",
        "  except:\n",
        "    print('Are you sure you used a dictionary?')"
      ],
      "metadata": {
        "id": "EVbkSVJWFt3l"
      },
      "execution_count": 34,
      "outputs": []
    },
    {
      "cell_type": "code",
      "source": [
        "randomfn2(animals)"
      ],
      "metadata": {
        "colab": {
          "base_uri": "https://localhost:8080/"
        },
        "id": "JQVDhD21F_iw",
        "outputId": "6d5a7e94-9ec4-4cc1-ed6e-0e6deca2b876"
      },
      "execution_count": 35,
      "outputs": [
        {
          "output_type": "stream",
          "name": "stdout",
          "text": [
            "Are you sure you used a dictionary?\n"
          ]
        }
      ]
    },
    {
      "cell_type": "code",
      "source": [
        ""
      ],
      "metadata": {
        "id": "y27riNXJGChq"
      },
      "execution_count": null,
      "outputs": []
    }
  ]
}
