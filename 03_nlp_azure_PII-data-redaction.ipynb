{
  "nbformat": 4,
  "nbformat_minor": 0,
  "metadata": {
    "colab": {
      "name": "03 nlp azure.ipynb",
      "provenance": [],
      "include_colab_link": true
    },
    "kernelspec": {
      "name": "python3",
      "display_name": "Python 3"
    },
    "language_info": {
      "name": "python"
    }
  },
  "cells": [
    {
      "cell_type": "markdown",
      "metadata": {
        "id": "view-in-github",
        "colab_type": "text"
      },
      "source": [
        "<a href=\"https://colab.research.google.com/github/aranlemaur/Big-Data/blob/main/03_nlp_azure_PII-data-redaction.ipynb\" target=\"_parent\"><img src=\"https://colab.research.google.com/assets/colab-badge.svg\" alt=\"Open In Colab\"/></a>"
      ]
    },
    {
      "cell_type": "code",
      "execution_count": 1,
      "metadata": {
        "colab": {
          "base_uri": "https://localhost:8080/"
        },
        "id": "oUZsS7XeJl-2",
        "outputId": "c0e5a8b3-d236-499a-e67b-db4a5b4e4d18"
      },
      "outputs": [
        {
          "output_type": "stream",
          "name": "stdout",
          "text": [
            "Collecting azure-ai-textanalytics==5.1.0\n",
            "  Downloading azure_ai_textanalytics-5.1.0-py2.py3-none-any.whl (153 kB)\n",
            "\u001b[K     |████████████████████████████████| 153 kB 9.9 MB/s \n",
            "\u001b[?25hCollecting azure-common~=1.1\n",
            "  Downloading azure_common-1.1.28-py2.py3-none-any.whl (14 kB)\n",
            "Collecting msrest>=0.6.21\n",
            "  Downloading msrest-0.6.21-py2.py3-none-any.whl (85 kB)\n",
            "\u001b[K     |████████████████████████████████| 85 kB 2.7 MB/s \n",
            "\u001b[?25hCollecting azure-core<2.0.0,>=1.14.0\n",
            "  Downloading azure_core-1.23.0-py3-none-any.whl (179 kB)\n",
            "\u001b[K     |████████████████████████████████| 179 kB 55.2 MB/s \n",
            "\u001b[?25hRequirement already satisfied: six>=1.11.0 in /usr/local/lib/python3.7/dist-packages (from azure-ai-textanalytics==5.1.0) (1.15.0)\n",
            "Collecting typing-extensions>=4.0.1\n",
            "  Downloading typing_extensions-4.1.1-py3-none-any.whl (26 kB)\n",
            "Requirement already satisfied: requests>=2.18.4 in /usr/local/lib/python3.7/dist-packages (from azure-core<2.0.0,>=1.14.0->azure-ai-textanalytics==5.1.0) (2.23.0)\n",
            "Requirement already satisfied: certifi>=2017.4.17 in /usr/local/lib/python3.7/dist-packages (from msrest>=0.6.21->azure-ai-textanalytics==5.1.0) (2021.10.8)\n",
            "Requirement already satisfied: requests-oauthlib>=0.5.0 in /usr/local/lib/python3.7/dist-packages (from msrest>=0.6.21->azure-ai-textanalytics==5.1.0) (1.3.1)\n",
            "Collecting isodate>=0.6.0\n",
            "  Downloading isodate-0.6.1-py2.py3-none-any.whl (41 kB)\n",
            "\u001b[K     |████████████████████████████████| 41 kB 816 kB/s \n",
            "\u001b[?25hRequirement already satisfied: chardet<4,>=3.0.2 in /usr/local/lib/python3.7/dist-packages (from requests>=2.18.4->azure-core<2.0.0,>=1.14.0->azure-ai-textanalytics==5.1.0) (3.0.4)\n",
            "Requirement already satisfied: urllib3!=1.25.0,!=1.25.1,<1.26,>=1.21.1 in /usr/local/lib/python3.7/dist-packages (from requests>=2.18.4->azure-core<2.0.0,>=1.14.0->azure-ai-textanalytics==5.1.0) (1.24.3)\n",
            "Requirement already satisfied: idna<3,>=2.5 in /usr/local/lib/python3.7/dist-packages (from requests>=2.18.4->azure-core<2.0.0,>=1.14.0->azure-ai-textanalytics==5.1.0) (2.10)\n",
            "Requirement already satisfied: oauthlib>=3.0.0 in /usr/local/lib/python3.7/dist-packages (from requests-oauthlib>=0.5.0->msrest>=0.6.21->azure-ai-textanalytics==5.1.0) (3.2.0)\n",
            "Installing collected packages: typing-extensions, isodate, msrest, azure-core, azure-common, azure-ai-textanalytics\n",
            "  Attempting uninstall: typing-extensions\n",
            "    Found existing installation: typing-extensions 3.10.0.2\n",
            "    Uninstalling typing-extensions-3.10.0.2:\n",
            "      Successfully uninstalled typing-extensions-3.10.0.2\n",
            "\u001b[31mERROR: pip's dependency resolver does not currently take into account all the packages that are installed. This behaviour is the source of the following dependency conflicts.\n",
            "tensorflow 2.8.0 requires tf-estimator-nightly==2.8.0.dev2021122109, which is not installed.\n",
            "arviz 0.11.4 requires typing-extensions<4,>=3.7.4.3, but you have typing-extensions 4.1.1 which is incompatible.\u001b[0m\n",
            "Successfully installed azure-ai-textanalytics-5.1.0 azure-common-1.1.28 azure-core-1.23.0 isodate-0.6.1 msrest-0.6.21 typing-extensions-4.1.1\n",
            "Collecting azure-storage-blob\n",
            "  Downloading azure_storage_blob-12.10.0-py3-none-any.whl (346 kB)\n",
            "\u001b[K     |████████████████████████████████| 346 kB 8.3 MB/s \n",
            "\u001b[?25hRequirement already satisfied: azure-core<2.0.0,>=1.15.0 in /usr/local/lib/python3.7/dist-packages (from azure-storage-blob) (1.23.0)\n",
            "Requirement already satisfied: msrest>=0.6.21 in /usr/local/lib/python3.7/dist-packages (from azure-storage-blob) (0.6.21)\n",
            "Collecting cryptography>=2.1.4\n",
            "  Downloading cryptography-36.0.1-cp36-abi3-manylinux_2_24_x86_64.whl (3.6 MB)\n",
            "\u001b[K     |████████████████████████████████| 3.6 MB 47.8 MB/s \n",
            "\u001b[?25hRequirement already satisfied: six>=1.11.0 in /usr/local/lib/python3.7/dist-packages (from azure-core<2.0.0,>=1.15.0->azure-storage-blob) (1.15.0)\n",
            "Requirement already satisfied: requests>=2.18.4 in /usr/local/lib/python3.7/dist-packages (from azure-core<2.0.0,>=1.15.0->azure-storage-blob) (2.23.0)\n",
            "Requirement already satisfied: typing-extensions>=4.0.1 in /usr/local/lib/python3.7/dist-packages (from azure-core<2.0.0,>=1.15.0->azure-storage-blob) (4.1.1)\n",
            "Requirement already satisfied: cffi>=1.12 in /usr/local/lib/python3.7/dist-packages (from cryptography>=2.1.4->azure-storage-blob) (1.15.0)\n",
            "Requirement already satisfied: pycparser in /usr/local/lib/python3.7/dist-packages (from cffi>=1.12->cryptography>=2.1.4->azure-storage-blob) (2.21)\n",
            "Requirement already satisfied: isodate>=0.6.0 in /usr/local/lib/python3.7/dist-packages (from msrest>=0.6.21->azure-storage-blob) (0.6.1)\n",
            "Requirement already satisfied: certifi>=2017.4.17 in /usr/local/lib/python3.7/dist-packages (from msrest>=0.6.21->azure-storage-blob) (2021.10.8)\n",
            "Requirement already satisfied: requests-oauthlib>=0.5.0 in /usr/local/lib/python3.7/dist-packages (from msrest>=0.6.21->azure-storage-blob) (1.3.1)\n",
            "Requirement already satisfied: urllib3!=1.25.0,!=1.25.1,<1.26,>=1.21.1 in /usr/local/lib/python3.7/dist-packages (from requests>=2.18.4->azure-core<2.0.0,>=1.15.0->azure-storage-blob) (1.24.3)\n",
            "Requirement already satisfied: chardet<4,>=3.0.2 in /usr/local/lib/python3.7/dist-packages (from requests>=2.18.4->azure-core<2.0.0,>=1.15.0->azure-storage-blob) (3.0.4)\n",
            "Requirement already satisfied: idna<3,>=2.5 in /usr/local/lib/python3.7/dist-packages (from requests>=2.18.4->azure-core<2.0.0,>=1.15.0->azure-storage-blob) (2.10)\n",
            "Requirement already satisfied: oauthlib>=3.0.0 in /usr/local/lib/python3.7/dist-packages (from requests-oauthlib>=0.5.0->msrest>=0.6.21->azure-storage-blob) (3.2.0)\n",
            "Installing collected packages: cryptography, azure-storage-blob\n",
            "Successfully installed azure-storage-blob-12.10.0 cryptography-36.0.1\n"
          ]
        }
      ],
      "source": [
        "!pip install azure-ai-textanalytics==5.1.0\n",
        "!pip install azure-storage-blob"
      ]
    },
    {
      "cell_type": "code",
      "source": [
        "key = \"dd4328e15d7c41ffb3cdf8f99dad9bc8\"\n",
        "endpoint = \"https://nlpwat.cognitiveservices.azure.com/\"\n",
        "\n",
        "from azure.ai.textanalytics import TextAnalyticsClient\n",
        "from azure.core.credentials import AzureKeyCredential\n",
        "\n",
        "ta_credential = AzureKeyCredential(key)\n",
        "client = TextAnalyticsClient(\n",
        "            endpoint=endpoint, \n",
        "            credential=ta_credential)\n"
      ],
      "metadata": {
        "id": "8Msk1cKHJuLP"
      },
      "execution_count": 2,
      "outputs": []
    },
    {
      "cell_type": "code",
      "source": [
        "from azure.storage.blob import BlobClient\n",
        "# working with PRIVATE data-> in CV example, we took PUBLIC blob. \n",
        "#on left menu of STORAGE ACCOUNT-> find connection string below access key\n",
        "constring = 'DefaultEndpointsProtocol=https;AccountName=nlpblobbo;AccountKey=B/Uuy/XJSvNZRSuh/BSxIftbshRL//d4IRUc6v/wFbZfwi/olHO9vsYRoht1BrI2fLn8+Hb3sMjH+ASti6/64Q==;EndpointSuffix=core.windows.net'\n",
        "blob = BlobClient.from_connection_string(conn_str=constring, \n",
        "                                         container_name=\"nlpstuff\", \n",
        "                                         blob_name=\"pii.txt\")\n",
        "# blob-> written in binary\n",
        "with open(\"pii.txt\", \"wb\") as my_blob:\n",
        "    blob_data = blob.download_blob()\n",
        "    blob_data.readinto(my_blob)"
      ],
      "metadata": {
        "id": "_RjItgbeP3Ok"
      },
      "execution_count": 17,
      "outputs": []
    },
    {
      "cell_type": "code",
      "source": [
        "# text-> read as text\n",
        "mydata = open(\"pii.txt\", \"rt\").read()\n",
        "mydata"
      ],
      "metadata": {
        "colab": {
          "base_uri": "https://localhost:8080/",
          "height": 35
        },
        "id": "ylmxku5FRX16",
        "outputId": "a4f55c76-5a4e-42c4-80e1-37a632a27fd9"
      },
      "execution_count": 18,
      "outputs": [
        {
          "output_type": "execute_result",
          "data": {
            "application/vnd.google.colaboratory.intrinsic+json": {
              "type": "string"
            },
            "text/plain": [
              "'My name is Pikachu Pandey. My phone number is 991-111-1111.\\n\\nI live at 221 Baker Street, Ghost Lake, Screamville. \\n'"
            ]
          },
          "metadata": {},
          "execution_count": 18
        }
      ]
    },
    {
      "cell_type": "code",
      "source": [
        "mydata = mydata.replace(\"\\n\",\"\")\n",
        "sentokens = mydata.split('.')\n",
        "print(sentokens)"
      ],
      "metadata": {
        "colab": {
          "base_uri": "https://localhost:8080/"
        },
        "id": "GWrw03WxRscI",
        "outputId": "f2e73e8c-2351-4deb-ab25-11e174d0cedd"
      },
      "execution_count": 19,
      "outputs": [
        {
          "output_type": "stream",
          "name": "stdout",
          "text": [
            "['My name is Pikachu Pandey', ' My phone number is 991-111-1111', 'I live at 221 Baker Street, Ghost Lake, Screamville', ' ']\n"
          ]
        }
      ]
    },
    {
      "cell_type": "code",
      "source": [
        "\n",
        "\n",
        "# Example method for detecting sensitive information (PII) from text \n",
        "def pii_recognition_example(client, mydata):\n",
        "    documents = mydata\n",
        "    response = client.recognize_pii_entities(documents, language=\"en\")\n",
        "    result = [doc for doc in response if not doc.is_error]\n",
        "    for doc in result:\n",
        "        print(\"Redacted Text: {}\".format(doc.redacted_text))\n",
        "        for entity in doc.entities:\n",
        "            print(\"Entity: {}\".format(entity.text))\n",
        "            print(\"\\tCategory: {}\".format(entity.category))\n",
        "            print(\"\\tConfidence Score: {}\".format(entity.confidence_score))\n",
        "            print(\"\\tOffset: {}\".format(entity.offset))\n",
        "            print(\"\\tLength: {}\".format(entity.length))\n"
      ],
      "metadata": {
        "id": "P7yFed9JONzE"
      },
      "execution_count": 20,
      "outputs": []
    },
    {
      "cell_type": "code",
      "source": [
        "pii_recognition_example(client, sentokens)"
      ],
      "metadata": {
        "colab": {
          "base_uri": "https://localhost:8080/"
        },
        "id": "l2r6nf9nS1FV",
        "outputId": "8bf43135-b276-4d0c-d613-6ec1673f2476"
      },
      "execution_count": 21,
      "outputs": [
        {
          "output_type": "stream",
          "name": "stdout",
          "text": [
            "Redacted Text: My name is **************\n",
            "Entity: Pikachu Pandey\n",
            "\tCategory: Person\n",
            "\tConfidence Score: 0.94\n",
            "\tOffset: 11\n",
            "\tLength: 14\n",
            "Redacted Text:  My phone number is ************\n",
            "Entity: 991-111-1111\n",
            "\tCategory: PhoneNumber\n",
            "\tConfidence Score: 0.8\n",
            "\tOffset: 20\n",
            "\tLength: 12\n",
            "Redacted Text: I live at *****************************************\n",
            "Entity: 221 Baker Street, Ghost Lake, Screamville\n",
            "\tCategory: Address\n",
            "\tConfidence Score: 0.84\n",
            "\tOffset: 10\n",
            "\tLength: 41\n"
          ]
        }
      ]
    },
    {
      "cell_type": "code",
      "source": [
        ""
      ],
      "metadata": {
        "id": "eAFYvqBAS5yS"
      },
      "execution_count": null,
      "outputs": []
    }
  ]
}