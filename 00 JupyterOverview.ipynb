{
  "cells": [
    {
      "cell_type": "markdown",
      "metadata": {
        "id": "view-in-github",
        "colab_type": "text"
      },
      "source": [
        "<a href=\"https://colab.research.google.com/github/aranlemaur/Big-Data/blob/main/02_JupyterOverview.ipynb\" target=\"_parent\"><img src=\"https://colab.research.google.com/assets/colab-badge.svg\" alt=\"Open In Colab\"/></a>"
      ]
    },
    {
      "cell_type": "markdown",
      "metadata": {
        "id": "MdmUZ3SDW0oK"
      },
      "source": [
        "# Python for Data Science & Analysis \n",
        "## Notes 1.0, Jupyter\n",
        "\n",
        "---\n",
        "### Objectives\n",
        "* Start jupyter notebook\n",
        "* Create a new notebook\n",
        "* Rename a notebook\n",
        "* Add a text cell\n",
        "* Add a code cell\n",
        "* Run cells\n",
        "---"
      ]
    },
    {
      "cell_type": "markdown",
      "metadata": {
        "id": "fxxVdU23W0oS"
      },
      "source": [
        "## What is Anaconda?"
      ]
    },
    {
      "cell_type": "markdown",
      "metadata": {
        "id": "3w4N9aUaW0oU"
      },
      "source": [
        "Anaconda is a collection of python packages, programms and other software for data analysis & data science."
      ]
    },
    {
      "cell_type": "markdown",
      "metadata": {
        "id": "QfA3n8CoW0oW"
      },
      "source": [
        "## What is jupyter notebook?"
      ]
    },
    {
      "cell_type": "markdown",
      "metadata": {
        "id": "Z2cBgAXIW0oX"
      },
      "source": [
        "A notebook is a documentation or commentary-first style of programming, where the key elements are explanations & comments. The code is less important, and often only small amounts. "
      ]
    },
    {
      "cell_type": "markdown",
      "metadata": {
        "id": "Z_oCpgadW0oZ"
      },
      "source": [
        "## How do I start Anaconda?"
      ]
    },
    {
      "cell_type": "markdown",
      "metadata": {
        "id": "UCEi1ssyW0oa"
      },
      "source": [
        "Start Menu > Anaconda Navigator"
      ]
    },
    {
      "cell_type": "markdown",
      "metadata": {
        "id": "GbLrjuDfW0oa"
      },
      "source": [
        "## How do I start jupyter notebook?"
      ]
    },
    {
      "cell_type": "markdown",
      "metadata": {
        "id": "qrn93TmHW0ob"
      },
      "source": [
        "In Anaconda Navigator, press `LAUNCH` underneath the jupyter notebook icon...\n",
        "\n",
        "<img src=images/jupyter/jupyter.png width=300px/>"
      ]
    },
    {
      "cell_type": "markdown",
      "metadata": {
        "id": "NQZlkNTOW0oc"
      },
      "source": [
        "## How do I use the file browser?"
      ]
    },
    {
      "cell_type": "markdown",
      "metadata": {
        "id": "eNb23UkmW0oc"
      },
      "source": [
        "Jupyter notebook starts with a file browser that displays files on your system. \n",
        "\n",
        "eg., browse to your documents folder in jupyter."
      ]
    },
    {
      "cell_type": "markdown",
      "metadata": {
        "id": "aJd-3CR0W0od"
      },
      "source": [
        "## How do I create notebooks?"
      ]
    },
    {
      "cell_type": "markdown",
      "metadata": {
        "id": "xL0yqJl-W0od"
      },
      "source": [
        "In your documents folder, go to the `NEW` button, and press `Python3`."
      ]
    },
    {
      "cell_type": "markdown",
      "metadata": {
        "id": "qIfJHYGyW0od"
      },
      "source": [
        "<img src=images/jupyter/newnotebook.png width=700px/>"
      ]
    },
    {
      "cell_type": "markdown",
      "metadata": {
        "id": "7LUHCyciW0oe"
      },
      "source": [
        "Jupyter will create a new notebook called `Untitled`."
      ]
    },
    {
      "cell_type": "markdown",
      "metadata": {
        "id": "e0RL4QJkW0oe"
      },
      "source": [
        "## How do I rename a notebook?"
      ]
    },
    {
      "cell_type": "markdown",
      "metadata": {
        "id": "YUlXTnacW0oe"
      },
      "source": [
        "Click on the title and a renaming box will appear, choose, eg., `MyNotes`. "
      ]
    },
    {
      "cell_type": "markdown",
      "metadata": {
        "id": "4Nx499wAW0oe"
      },
      "source": [
        "<img src=images/jupyter/rename.png width=500px />"
      ]
    },
    {
      "cell_type": "markdown",
      "metadata": {
        "id": "C-unmVuaW0of"
      },
      "source": [
        "## How do I add and modify cells?"
      ]
    },
    {
      "cell_type": "markdown",
      "metadata": {
        "id": "wsjzGGctW0of"
      },
      "source": [
        "### command mode: ESC (blue bar)\n",
        "- `arrows` move around notebook\n",
        "- `m` -- markdown / text cell\n",
        "- `y` -- code cell / python cell\n",
        "- `a` -- insert cell above\n",
        "- `b` -- insert cell below\n",
        "- `dd` -- delete cell\n",
        "- `z` -- undo delete\n",
        "- `CTRL+ENTER` to run\n",
        "- `SHITT+ENTER` to run & move one cell below\n",
        "    "
      ]
    },
    {
      "cell_type": "markdown",
      "metadata": {
        "id": "V9OJJllqW0of"
      },
      "source": [
        "## How do I edit the contents of cells?"
      ]
    },
    {
      "cell_type": "markdown",
      "metadata": {
        "id": "o7-91u82W0of"
      },
      "source": [
        "### edit mode:  ENTER (green bar)\n",
        "- type\n",
        "- `arrows` to move around text\n",
        "- `CTRL+ENTER` run cell\n",
        "- `SHIFT+ENTER` run cell & move one cell below"
      ]
    },
    {
      "cell_type": "markdown",
      "metadata": {
        "id": "RvRPmrJIW0og"
      },
      "source": [
        "## How do I add python code to a notebook?"
      ]
    },
    {
      "cell_type": "markdown",
      "metadata": {
        "id": "8pkCinfqW0og"
      },
      "source": [
        "Add a cell (eg., press `b`) and press `ENTER` to edit..."
      ]
    },
    {
      "cell_type": "code",
      "execution_count": null,
      "metadata": {
        "id": "bYGs9HIqW0og",
        "outputId": "8462dd5c-eff4-4a7a-9ea6-ee6069425dc9"
      },
      "outputs": [
        {
          "name": "stdout",
          "output_type": "stream",
          "text": [
            "4\n"
          ]
        }
      ],
      "source": [
        "print(2 ** 2)\n"
      ]
    },
    {
      "cell_type": "markdown",
      "metadata": {
        "id": "myX-htbPW0oi"
      },
      "source": [
        "## How do I run a python code cell?"
      ]
    },
    {
      "cell_type": "markdown",
      "metadata": {
        "id": "ox7t5DI0W0oi"
      },
      "source": [
        "Press `CTRL + ENTER` or the <i class=\"fa-step-forward fa\"></i> RUN button"
      ]
    },
    {
      "cell_type": "markdown",
      "metadata": {
        "id": "UkGglWzdW0oi"
      },
      "source": [
        "## What happens when I run a code cell in jupyter?\n",
        "\n",
        "Jupyter always `print()`s the **last line...**"
      ]
    },
    {
      "cell_type": "code",
      "execution_count": null,
      "metadata": {
        "id": "Xtulek7jW0oi",
        "outputId": "151a4d00-7179-445c-c0f9-e028fe300aad"
      },
      "outputs": [
        {
          "data": {
            "text/plain": [
              "5"
            ]
          },
          "execution_count": 2,
          "metadata": {},
          "output_type": "execute_result"
        }
      ],
      "source": [
        "5"
      ]
    },
    {
      "cell_type": "markdown",
      "metadata": {
        "id": "Wc4XLCqdW0oi"
      },
      "source": [
        "In an ordinary python program, you have `print()` everything you wish to show on the screen. "
      ]
    },
    {
      "cell_type": "markdown",
      "metadata": {
        "id": "fsCPZrJ-W0oj"
      },
      "source": [
        "## How do I add a text cell?"
      ]
    },
    {
      "cell_type": "markdown",
      "metadata": {
        "id": "nenNfevIW0oj"
      },
      "source": [
        "Add a cell, change type to markdown"
      ]
    },
    {
      "cell_type": "markdown",
      "metadata": {
        "id": "SRkdsr4QW0oj"
      },
      "source": [
        "<img src=images/jupyter/textcell.png width=500px/>"
      ]
    },
    {
      "cell_type": "markdown",
      "metadata": {
        "id": "63mTJMbwW0oj"
      },
      "source": [
        "or press `m` in COMMAND MODE."
      ]
    },
    {
      "cell_type": "markdown",
      "metadata": {
        "id": "BqXKZYJqW0oj"
      },
      "source": [
        "## How do I get help?"
      ]
    },
    {
      "cell_type": "markdown",
      "metadata": {
        "id": "orC5atK3W0oj"
      },
      "source": [
        "* `command?`\n",
        "* `command??`\n",
        "* `help(command)`"
      ]
    },
    {
      "cell_type": "markdown",
      "metadata": {
        "id": "PPY5O7bQW0oj"
      },
      "source": [
        "## How do I find the arguments of a function?"
      ]
    },
    {
      "cell_type": "code",
      "execution_count": null,
      "metadata": {
        "id": "dUo-Mm-sW0ok"
      },
      "outputs": [],
      "source": [
        "import statistics\n",
        "statistics.mean?\n"
      ]
    },
    {
      "cell_type": "markdown",
      "metadata": {
        "id": "oADMk4XsW0ok"
      },
      "source": [
        "## How do I stop jupyter from printing the last line of a cell?\n",
        "\n",
        "Use `;`"
      ]
    },
    {
      "cell_type": "code",
      "execution_count": null,
      "metadata": {
        "id": "MIZzRqAyW0ok",
        "outputId": "afe21be2-7ca0-495d-9bce-680a548b21bb"
      },
      "outputs": [
        {
          "data": {
            "text/plain": [
              "5"
            ]
          },
          "execution_count": 5,
          "metadata": {},
          "output_type": "execute_result"
        }
      ],
      "source": [
        "5\n"
      ]
    },
    {
      "cell_type": "code",
      "execution_count": null,
      "metadata": {
        "id": "H-GfRq8QW0ok"
      },
      "outputs": [],
      "source": [
        "5;\n"
      ]
    },
    {
      "cell_type": "markdown",
      "metadata": {
        "id": "XtL8Is3RW0ok"
      },
      "source": [
        "##   How do I run command line programs within jupyter?"
      ]
    },
    {
      "cell_type": "markdown",
      "metadata": {
        "id": "5v8vcVDBW0ol"
      },
      "source": [
        "On windows, `dir`:"
      ]
    },
    {
      "cell_type": "code",
      "execution_count": null,
      "metadata": {
        "id": "EmtNi2YKW0ol",
        "outputId": "65419e40-50fa-49c1-b14e-90cebb1ec1f9"
      },
      "outputs": [
        {
          "name": "stdout",
          "output_type": "stream",
          "text": [
            " Volume in drive D is KUN-D\n",
            " Volume Serial Number is EA49-7B93\n",
            "\n",
            " Directory of D:\\DATA\\QA\\20201029 - znhspython\\20201116 - Data Analysis - KH\n",
            "\n",
            "16/11/2020  11:03    <DIR>          .\n",
            "16/11/2020  11:03    <DIR>          ..\n",
            "16/11/2020  11:02    <DIR>          .ipynb_checkpoints\n",
            "16/11/2020  10:53    <DIR>          datasets\n",
            "16/11/2020  10:53    <DIR>          images\n",
            "16/11/2020  11:03            13,318 LIVE_01_JupyterReview.ipynb\n",
            "12/11/2020  12:03             7,841 LIVE_312_SQL_CSV.ipynb\n",
            "12/11/2020  11:48            34,406 LIVE_31_SQL.ipynb\n",
            "16/11/2020  09:50            23,555 LIVE_32_Spark.ipynb\n",
            "13/11/2020  10:46            69,103 LIVE_331_Pandas.ipynb\n",
            "13/11/2020  11:18            50,595 LIVE_411_EDA_Pandas.ipynb\n",
            "13/11/2020  11:45           197,591 LIVE_412_EDA_Visuals.ipynb\n",
            "13/11/2020  14:34         5,021,192 LIVE_413_EDA_Plotly.ipynb\n",
            "13/11/2020  16:05            28,835 LIVE_42_Text.ipynb\n",
            "13/11/2020  16:05            52,313 NHS_Workbook.ipynb\n",
            "16/11/2020  10:53    <DIR>          notes\n",
            "16/11/2020  09:48             7,637 QAZNHS2_Overview.ipynb\n",
            "16/11/2020  10:53    <DIR>          reference\n",
            "12/11/2020  11:55            12,288 titanic.db\n",
            "16/11/2020  10:53    <DIR>          workbook\n",
            "              12 File(s)      5,518,674 bytes\n",
            "               8 Dir(s)  80,285,663,232 bytes free\n"
          ]
        }
      ],
      "source": [
        "!dir\n"
      ]
    },
    {
      "cell_type": "markdown",
      "metadata": {
        "id": "dxB3S5mIW0ol"
      },
      "source": [
        "## How do I install python packages with jupyter?"
      ]
    },
    {
      "cell_type": "code",
      "execution_count": null,
      "metadata": {
        "id": "8NyNzEp2W0ol",
        "outputId": "4c233d95-109c-4a1a-ac4a-a93510acc574"
      },
      "outputs": [
        {
          "name": "stdout",
          "output_type": "stream",
          "text": [
            "Requirement already satisfied: plotly in c:\\users\\kunal\\anaconda3\\lib\\site-packages (4.10.0)\n",
            "Collecting pyspark\n",
            "  Downloading pyspark-3.0.1.tar.gz (204.2 MB)\n",
            "Requirement already satisfied: six in c:\\users\\kunal\\anaconda3\\lib\\site-packages (from plotly) (1.14.0)\n",
            "Requirement already satisfied: retrying>=1.3.3 in c:\\users\\kunal\\anaconda3\\lib\\site-packages (from plotly) (1.3.3)\n",
            "Collecting py4j==0.10.9\n",
            "  Downloading py4j-0.10.9-py2.py3-none-any.whl (198 kB)\n",
            "Building wheels for collected packages: pyspark\n",
            "  Building wheel for pyspark (setup.py): started\n",
            "  Building wheel for pyspark (setup.py): still running...\n",
            "  Building wheel for pyspark (setup.py): finished with status 'done'\n",
            "  Created wheel for pyspark: filename=pyspark-3.0.1-py2.py3-none-any.whl size=204612248 sha256=1b2290e8f6b057db0a550acca13fe3f96234f9ee0333cab325e9cf9ffca1a6b7\n",
            "  Stored in directory: c:\\users\\kunal\\appdata\\local\\pip\\cache\\wheels\\32\\d6\\81\\b226c0fb07391610277bc3e3fcc50b24bae5040b71d9dba360\n",
            "Successfully built pyspark\n",
            "Installing collected packages: py4j, pyspark\n",
            "Successfully installed py4j-0.10.9 pyspark-3.0.1\n"
          ]
        }
      ],
      "source": [
        "!pip install plotly pyspark\n"
      ]
    }
  ],
  "metadata": {
    "celltoolbar": "Slideshow",
    "kernelspec": {
      "display_name": "Python 3",
      "language": "python",
      "name": "python3"
    },
    "language_info": {
      "codemirror_mode": {
        "name": "ipython",
        "version": 3
      },
      "file_extension": ".py",
      "mimetype": "text/x-python",
      "name": "python",
      "nbconvert_exporter": "python",
      "pygments_lexer": "ipython3",
      "version": "3.7.4"
    },
    "colab": {
      "name": "02 - JupyterOverview.ipynb",
      "provenance": [],
      "include_colab_link": true
    }
  },
  "nbformat": 4,
  "nbformat_minor": 0
}
