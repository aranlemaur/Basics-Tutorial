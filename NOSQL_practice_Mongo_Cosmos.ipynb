{
  "nbformat": 4,
  "nbformat_minor": 0,
  "metadata": {
    "colab": {
      "name": "006 PyMongo Cosmos.ipynb",
      "provenance": [],
      "collapsed_sections": [],
      "include_colab_link": true
    },
    "kernelspec": {
      "name": "python3",
      "display_name": "Python 3"
    },
    "language_info": {
      "name": "python"
    }
  },
  "cells": [
    {
      "cell_type": "markdown",
      "metadata": {
        "id": "view-in-github",
        "colab_type": "text"
      },
      "source": [
        "<a href=\"https://colab.research.google.com/github/aranlemaur/Big-Data/blob/main/NOSQL_practice_Mongo_Cosmos.ipynb\" target=\"_parent\"><img src=\"https://colab.research.google.com/assets/colab-badge.svg\" alt=\"Open In Colab\"/></a>"
      ]
    },
    {
      "cell_type": "code",
      "metadata": {
        "id": "4J2wIcM1-ZdB"
      },
      "source": [
        "# PLEASE DO NOT CHANGE THIS LINE\n",
        "import pymongo\n",
        "connectionString = \"mongodb://asteroid:qeqpcXHLl1NDTOsnAjH0X8ZkAWgEVUYiusxnjGKgAsc4fKnujvSOOBTdFNYoXFLUs4BFGweeKN1fFZKukehPSA==@asteroid.mongo.cosmos.azure.com:10255/?ssl=true&retrywrites=false&replicaSet=globaldb&maxIdleTimeMS=120000&appName=@asteroid@\"\n",
        "client = pymongo.MongoClient(connectionString)"
      ],
      "execution_count": 1,
      "outputs": []
    },
    {
      "cell_type": "code",
      "metadata": {
        "id": "D1UWc_tb1vAU"
      },
      "source": [
        "mydb = client[\"monkeybar\"] # PLEASE DO NOT CHANGE THIS LINE"
      ],
      "execution_count": 2,
      "outputs": []
    },
    {
      "cell_type": "code",
      "metadata": {
        "id": "ViuCq-5D87BV"
      },
      "source": [
        "mycol = mydb[\"cats\"] # Change collection name 'fish' to anything else that you like!"
      ],
      "execution_count": 3,
      "outputs": []
    },
    {
      "cell_type": "code",
      "metadata": {
        "id": "s-j7opwR9HFW"
      },
      "source": [
        "mydict = { \"name\": \"Alfie\", \"likes_fighting\": True }\n",
        "\n",
        "x = mycol.insert_one(mydict)"
      ],
      "execution_count": 18,
      "outputs": []
    },
    {
      "cell_type": "code",
      "metadata": {
        "id": "McCQQaXI9SOe"
      },
      "source": [
        "mydict = { \"name\": \"Kitty\", \"age\": 1 }\n",
        "\n",
        "x = mycol.insert_one(mydict)"
      ],
      "execution_count": 5,
      "outputs": []
    },
    {
      "cell_type": "code",
      "metadata": {
        "id": "BDOiHbc-G7lM"
      },
      "source": [
        ""
      ],
      "execution_count": 5,
      "outputs": []
    },
    {
      "cell_type": "code",
      "metadata": {
        "id": "n0EgDSQq9qIL"
      },
      "source": [
        "r2 = { \"name\": \"Harrison\", \"complex\": mydict , \"addresses\":[\"his owners' house\",\"my house\",\"any house\"]}\n",
        "\n",
        "x = mycol.insert_one(r2)"
      ],
      "execution_count": 16,
      "outputs": []
    },
    {
      "cell_type": "code",
      "metadata": {
        "colab": {
          "base_uri": "https://localhost:8080/"
        },
        "id": "Bu_SKVlg94LP",
        "outputId": "3f23cf6d-0321-4835-fadc-f6682e64df60"
      },
      "source": [
        "# MongoDB-> Document Database \n",
        "for x in mycol.find():\n",
        "  print(x)"
      ],
      "execution_count": 19,
      "outputs": [
        {
          "output_type": "stream",
          "name": "stdout",
          "text": [
            "{'_id': ObjectId('6213ae5f0bb5d74ae3f16135'), 'name': 'Alfie', 'likes_fighting': True}\n",
            "{'_id': ObjectId('6213ae8b0bb5d74ae3f16136'), 'name': 'Kitty', 'age': 1}\n",
            "{'_id': ObjectId('6213af9e0bb5d74ae3f16137'), 'name': 'Harrison', 'complex': {'name': 'Kitty', 'age': 1, '_id': ObjectId('6213ae8b0bb5d74ae3f16136')}, 'addresses': [\"his owners' house\", 'my house', 'any house']}\n",
            "{'_id': ObjectId('6213b22d0bb5d74ae3f16138'), 'name': 'Harrison', 'complex': {'name': 'Kitty', 'age': 1, '_id': ObjectId('6213ae8b0bb5d74ae3f16136')}, 'addresses': [\"his owners' house\", 'my house', 'any house']}\n",
            "{'_id': ObjectId('6213b2800bb5d74ae3f16139'), 'name': 'Harrison', 'complex': {'name': 'Kitty', 'age': 1, '_id': ObjectId('6213ae8b0bb5d74ae3f16136')}, 'addresses': [\"his owners' house\", 'my house', 'any house']}\n",
            "{'_id': ObjectId('6213b2920bb5d74ae3f1613a'), 'name': 'Alfie', 'likes_fighting': True}\n"
          ]
        }
      ]
    },
    {
      "cell_type": "code",
      "metadata": {
        "colab": {
          "base_uri": "https://localhost:8080/"
        },
        "id": "1hWjlFs2-d7f",
        "outputId": "5f595c77-af4f-4a41-d618-46b87c7b2c89"
      },
      "source": [
        "for x in mycol.find({\"name\":\"Kitty\", \"age\":1}).limit(1):\n",
        "  print(x)"
      ],
      "execution_count": 20,
      "outputs": [
        {
          "output_type": "stream",
          "name": "stdout",
          "text": [
            "{'_id': ObjectId('6213ae8b0bb5d74ae3f16136'), 'name': 'Kitty', 'age': 1}\n"
          ]
        }
      ]
    },
    {
      "cell_type": "code",
      "metadata": {
        "id": "PaT8LNoeMFRe"
      },
      "source": [
        "myquery = { \"name\": { \"$regex\": \"ha*\" } } # for example, this is a \n",
        "# regular expression that ends with letter 'p'\n",
        "\n",
        "mydoc = mycol.find(myquery)\n",
        "\n",
        "for x in mydoc:\n",
        "  print(x)"
      ],
      "execution_count": 26,
      "outputs": []
    },
    {
      "cell_type": "code",
      "metadata": {
        "id": "LY5uckz_MBAe"
      },
      "source": [
        ""
      ],
      "execution_count": null,
      "outputs": []
    }
  ]
}